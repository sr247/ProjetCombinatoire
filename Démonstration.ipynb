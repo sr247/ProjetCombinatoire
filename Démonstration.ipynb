{
 "cells": [
  {
   "cell_type": "code",
   "execution_count": 24,
   "metadata": {},
   "outputs": [
    {
     "ename": "SyntaxError",
     "evalue": "invalid syntax (<ipython-input-24-c07704f010be>, line 1)",
     "output_type": "error",
     "traceback": [
      "\u001b[0;36m  File \u001b[0;32m\"<ipython-input-24-c07704f010be>\"\u001b[0;36m, line \u001b[0;32m1\u001b[0m\n\u001b[0;31m    from ConstructorRule import ConstructorRule.UnionRule\u001b[0m\n\u001b[0m                                               ^\u001b[0m\n\u001b[0;31mSyntaxError\u001b[0m\u001b[0;31m:\u001b[0m invalid syntax\n"
     ]
    }
   ],
   "source": []
  },
  {
   "cell_type": "code",
   "execution_count": 22,
   "metadata": {
    "collapsed": true
   },
   "outputs": [],
   "source": [
    "# Fonctions principalement utilisées pour les Trees\n",
    "size = lambda tree : tree.size()\n",
    "isFst = lambda tree : not tree.is_leaf()\n",
    "pack = lambda obj: Node(obj[0], obj[1])\n",
    "unpack = lambda tree : (tree.left(),tree.right())"
   ]
  },
  {
   "cell_type": "code",
   "execution_count": 23,
   "metadata": {},
   "outputs": [
    {
     "ename": "NameError",
     "evalue": "name 'UnionRule' is not defined",
     "output_type": "error",
     "traceback": [
      "\u001b[0;31m---------------------------------------------------------------------------\u001b[0m",
      "\u001b[0;31mNameError\u001b[0m                                 Traceback (most recent call last)",
      "\u001b[0;32m<ipython-input-23-ed463a88f969>\u001b[0m in \u001b[0;36m<module>\u001b[0;34m()\u001b[0m\n\u001b[1;32m      1\u001b[0m \u001b[0;31m# Exemple ici on déclare la grammaire Tree\u001b[0m\u001b[0;34m\u001b[0m\u001b[0;34m\u001b[0m\u001b[0m\n\u001b[0;32m----> 2\u001b[0;31m treeGram = {\"Tree\": UnionRule(\"Node\", \"Leaf\", isFst, size),\n\u001b[0m\u001b[1;32m      3\u001b[0m             \u001b[0;34m\"Node\"\u001b[0m\u001b[0;34m:\u001b[0m \u001b[0mProductRule\u001b[0m\u001b[0;34m(\u001b[0m\u001b[0;34m\"Tree\"\u001b[0m\u001b[0;34m,\u001b[0m \u001b[0;34m\"Tree\"\u001b[0m\u001b[0;34m,\u001b[0m \u001b[0mpack\u001b[0m\u001b[0;34m,\u001b[0m \u001b[0munpack\u001b[0m\u001b[0;34m,\u001b[0m \u001b[0msize\u001b[0m\u001b[0;34m)\u001b[0m\u001b[0;34m,\u001b[0m\u001b[0;34m\u001b[0m\u001b[0m\n\u001b[1;32m      4\u001b[0m             \"Leaf\": SingletonRule(Leaf)}\n",
      "\u001b[0;31mNameError\u001b[0m: name 'UnionRule' is not defined"
     ]
    }
   ],
   "source": [
    "# Exemple ici on déclare la grammaire Tree\n",
    "treeGram = {\"Tree\": UnionRule(\"Node\", \"Leaf\", isFst, size),\n",
    "            \"Node\": ProductRule(\"Tree\", \"Tree\", pack, unpack, size),\n",
    "            \"Leaf\": SingletonRule(Leaf)}"
   ]
  },
  {
   "cell_type": "code",
   "execution_count": 14,
   "metadata": {},
   "outputs": [
    {
     "ename": "NameError",
     "evalue": "name 'init_grammar' is not defined",
     "output_type": "error",
     "traceback": [
      "\u001b[0;31m---------------------------------------------------------------------------\u001b[0m",
      "\u001b[0;31mNameError\u001b[0m                                 Traceback (most recent call last)",
      "\u001b[0;32m<ipython-input-14-202621658d5c>\u001b[0m in \u001b[0;36m<module>\u001b[0;34m()\u001b[0m\n\u001b[0;32m----> 1\u001b[0;31m \u001b[0minit_grammar\u001b[0m\u001b[0;34m(\u001b[0m\u001b[0mtreeGram\u001b[0m\u001b[0;34m)\u001b[0m\u001b[0;34m\u001b[0m\u001b[0m\n\u001b[0m",
      "\u001b[0;31mNameError\u001b[0m: name 'init_grammar' is not defined"
     ]
    }
   ],
   "source": [
    "init_grammar(treeGram)"
   ]
  },
  {
   "cell_type": "code",
   "execution_count": null,
   "metadata": {
    "collapsed": true
   },
   "outputs": [],
   "source": []
  }
 ],
 "metadata": {
  "kernelspec": {
   "display_name": "Python 3",
   "language": "python",
   "name": "python3"
  },
  "language_info": {
   "codemirror_mode": {
    "name": "ipython",
    "version": 3
   },
   "file_extension": ".py",
   "mimetype": "text/x-python",
   "name": "python",
   "nbconvert_exporter": "python",
   "pygments_lexer": "ipython3",
   "version": "3.6.2"
  }
 },
 "nbformat": 4,
 "nbformat_minor": 2
}
