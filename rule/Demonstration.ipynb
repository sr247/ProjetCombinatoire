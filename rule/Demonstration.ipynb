{
 "cells": [
  {
   "cell_type": "code",
   "execution_count": 1,
   "metadata": {},
   "outputs": [],
   "source": [
    "from main import *\n",
    "from Tree import *\n",
    "from UnionRule import *\n",
    "from ProductRule import *\n",
    "from ConstanteRule import *"
   ]
  },
  {
   "cell_type": "code",
   "execution_count": 105,
   "metadata": {},
   "outputs": [
    {
     "name": "stdout",
     "output_type": "stream",
     "text": [
      "AorBx : UnionRule(\"Seq-4\", \"Seq-7\")\n",
      "Eps-1 : EpsilonRule(\"\")\n",
      "Sing-2 : SingletonRule(\"a\")\n",
      "Prod-3 : ProductRule(\"Seq-4\", \"Sing-2\")\n",
      "Seq-4 : UnionRule(\"Eps-1\", \"Prod-3\")\n",
      "Sing-5 : SingletonRule(\"b\")\n",
      "Prod-6 : ProductRule(\"Seq-7\", \"Sing-5\")\n",
      "Seq-7 : UnionRule(\"Eps-1\", \"Prod-6\")\n"
     ]
    }
   ],
   "source": [
    "# Fonctions principalement utilisées pour les Trees\n",
    "size = lambda tree : tree.size()\n",
    "isFst = lambda tree : not tree.is_leaf()\n",
    "pack = lambda obj: Node(obj[0], obj[1])\n",
    "unpack = lambda tree : (tree.left(), tree.right())\n",
    "\n",
    "\n",
    "# Exemple ici on déclare la grammaire Tree\n",
    "treeGram = {\"Tree\": UnionRule(\"Node\", \"Leaf\", isFst, size),\n",
    "            \"Node\": ProductRule(\"Tree\", \"Tree\", pack, unpack, size),\n",
    "            \"Leaf\": SingletonRule(Leaf)}\n",
    "\n",
    "\n",
    "\n",
    "# Exemple de grammaire condensée + conversion\n",
    "treeGramCond = {\"Tree\" : Union(Prod(NonTerm(\"Tree\"), NonTerm(\"Tree\"), pack, unpack, size), Singleton(Leaf), isFst,size)}\n",
    "convGramCond(treeGramCond,\"Tree\")\n",
    "\n",
    "# Ces fonctions sont utilisées dans la plus part des cas sur les grammaires fonctionnant avec des objets de type string\n",
    "size = lambda s: len(s)\n",
    "isEmpty = lambda s: s == \"\"\n",
    "unpack = lambda s: (s[:1], s[1:])  # Premier caractère et le reste\n",
    "unpack2 = lambda s: (s[:len(s) - 1], s[len(s) - 1])  # Tout sauf le dernier caractère et le dernier caractère\n",
    "isFstA = lambda s: s[:1] == 'A'\n",
    "isFstB = lambda s: s[:1] == 'B'\n",
    "single = lambda s: len(s) == 1\n",
    "join = \"\".join\n",
    "\n",
    "#Sequence Simple\n",
    "\n",
    "isFsta = lambda s: s[:1] == 'a' or  s[:1] == ''\n",
    "testSequence = {\"AorBx\" : Union(Sequence(Singleton(\"a\"), Epsilon(\"\"), \"\".join, unpack2, isEmpty, size),Sequence(Singleton(\"b\"), Epsilon(\"\"), \"\".join, unpack2, isEmpty, size),isFsta,size)}\n",
    "convGramCond(testSequence, \"AorBx\")\n",
    "for k, el in testSequence.items():\n",
    "    print(k + \" : \" + str(el))\n",
    "\n",
    "\n",
    "# Exemple ici on déclare la grammaire Fibonacci\n",
    "isFstB1 = lambda s : len(s) == 1 and s[:1] == 'B'\n",
    "fiboGram = {\"Fib\": UnionRule(\"Vide\", \"Cas1\", isEmpty, size),\n",
    "            \"Cas1\": UnionRule(\"CasAu\", \"Cas2\", isFstA, size),\n",
    "            \"Cas2\": UnionRule(\"AtomB\", \"CasBAu\",isFstB1, size),\n",
    "            \"CasAu\": ProductRule(\"AtomA\", \"Fib\", join, unpack, size),\n",
    "            \"CasBAu\": ProductRule(\"AtomB\", \"CasAu\", join, unpack, size),\n",
    "            \"Vide\": EpsilonRule(\"\"),\n",
    "            \"AtomA\": SingletonRule(\"A\"),\n",
    "            \"AtomB\": SingletonRule(\"B\")}\n",
    "\n",
    "\n",
    "#Quesiont 2.2.2\n",
    "abWordGram = {\"ABWord\": UnionRule(\"Vide\", \"StartAB\", isEmpty, size),\n",
    "              \"StartAB\": UnionRule(\"CasA\", \"CasB\", isFstA, size),\n",
    "              \"CasA\": ProductRule(\"AtomA\",\"ABWord\", join, unpack, size),\n",
    "              \"CasB\": ProductRule(\"AtomB\",\"ABWord\", join, unpack, size),\n",
    "              \"Vide\": EpsilonRule(\"\"),\n",
    "              \"AtomA\": SingletonRule(\"A\"),\n",
    "              \"AtomB\": SingletonRule(\"B\")}\n",
    "\n",
    "def unpackDyck(s) :\n",
    "    g = 0\n",
    "    ret = \"\"\n",
    "    while g != -1 and s != \"\":\n",
    "        tmp = s[:1]\n",
    "        if tmp == \"(\" :\n",
    "            g += 1\n",
    "        elif tmp == \")\":\n",
    "            g -= 1\n",
    "        if g != -1:\n",
    "            ret += tmp\n",
    "            s = s[1:]\n",
    "    return ret,s\n",
    "#Quesiont 2.2.3\n",
    "dyckGram = {\"DyckWord\" : UnionRule(\"Vide\",\"CasStart\",isEmpty, size),\n",
    "            \"CasStart\": ProductRule(\"AtomL\",\"CasMid\", join, unpack, size),\n",
    "            \"CasMid\": ProductRule(\"DyckWord\",\"CasEnd\", join, unpackDyck, size),\n",
    "            \"CasEnd\": ProductRule(\"AtomR\",\"DyckWord\", join, unpack, size),\n",
    "            \"Vide\": EpsilonRule(\"\"),\n",
    "            \"AtomL\": SingletonRule(\"(\"),\n",
    "            \"AtomR\": SingletonRule(\")\")}\n",
    "\n",
    "#Quesiont 2.2.4\t\n",
    "ab2MaxGram = {\"AB2Max\": UnionRule(\"Vide\", \"Start\", isEmpty, size),\n",
    "              \"Start\": UnionRule(\"CasA\", \"CasB\", isFstA, size),\n",
    "              \"CasA\": ProductRule(\"AtomA\", \"StartedA\", join, unpack, size),\n",
    "              \"CasB\": ProductRule(\"AtomB\", \"StartedB\", join, unpack, size),\n",
    "              \"StartedA\": UnionRule(\"Vide\", \"NextA\",isEmpty,size),\n",
    "              \"StartedB\": UnionRule(\"Vide\", \"NextB\",isEmpty,size),\n",
    "              \"NextA\": UnionRule(\"CasB\", \"EndA\", isFstB, size),\n",
    "              \"NextB\": UnionRule(\"CasA\", \"EndB\", isFstA, size),\n",
    "              \"FollowedByA\": UnionRule(\"CasA\", \"Vide\", isFstA, size),\n",
    "              \"FollowedByB\": UnionRule(\"CasB\", \"Vide\", isFstB, size),\n",
    "              \"EndA\": ProductRule(\"AtomA\", \"FollowedByB\", join, unpack, size),\n",
    "              \"EndB\": ProductRule(\"AtomB\", \"FollowedByA\", join, unpack, size),\n",
    "              \"Vide\": EpsilonRule(\"\"),\n",
    "              \"AtomA\": SingletonRule(\"A\"),\n",
    "              \"AtomB\": SingletonRule(\"B\")}\n",
    "\n",
    "#Quesiont 2.2.5.1\n",
    "palABGram = {\"PalAB\": UnionRule(\"Vide\", \"StartAB\", isEmpty, size),\n",
    "             \"StartAB\": UnionRule(\"Single\", \"Sym\", single, size),\n",
    "             \"Single\": UnionRule(\"AtomA\", \"AtomB\", isFstA, size),\n",
    "             \"Sym\": UnionRule(\"SymA\", \"SymB\", isFstA, size),\n",
    "             \"SymA\": ProductRule(\"AtomA\", \"SymA2\", join, unpack, size),\n",
    "             \"SymB\": ProductRule(\"AtomB\", \"SymB2\", join, unpack, size),\n",
    "             \"SymA2\": ProductRule(\"PalAB\", \"AtomA\", join, unpack2, size),\n",
    "             \"SymB2\": ProductRule(\"PalAB\", \"AtomB\", join, unpack2, size),\n",
    "             \"Vide\": EpsilonRule(\"\"),\n",
    "             \"AtomA\": SingletonRule(\"A\"),\n",
    "             \"AtomB\": SingletonRule(\"B\")}\n",
    "\n",
    "#Quesiont 2.2.5.1\n",
    "palABCGram = {\"PalABC\": UnionRule(\"Vide\", \"StartABC\", isEmpty, size),\n",
    "             \"StartABC\": UnionRule(\"Single\", \"Sym\", single, size),\n",
    "             \"Single\": UnionRule(\"AtomA\", \"Single2\", isFstA, size),\n",
    "             \"Single2\": UnionRule(\"AtomB\", \"AtomC\", isFstB, size),\n",
    "             \"Sym\": UnionRule(\"SymA\", \"Sym2\", isFstA, size),\n",
    "             \"Sym2\": UnionRule(\"SymB\", \"SymC\", isFstB, size),\n",
    "             \"SymA\": ProductRule(\"AtomA\", \"SymA2\", join, unpack, size),\n",
    "             \"SymB\": ProductRule(\"AtomB\", \"SymB2\", join, unpack, size),\n",
    "             \"SymC\": ProductRule(\"AtomC\", \"SymC2\", join, unpack, size),\n",
    "             \"SymA2\": ProductRule(\"PalABC\", \"AtomA\", join, unpack2, size),\n",
    "             \"SymB2\": ProductRule(\"PalABC\", \"AtomB\", join, unpack2, size),\n",
    "             \"SymC2\": ProductRule(\"PalABC\", \"AtomC\", join, unpack2, size),\n",
    "             \"Vide\": EpsilonRule(\"\"),\n",
    "             \"AtomA\": SingletonRule(\"A\"),\n",
    "             \"AtomB\": SingletonRule(\"B\"),\n",
    "             \"AtomC\": SingletonRule(\"C\")}\n",
    "\n",
    "#Quesiont 2.2.6\n",
    "# Grammaire ambigue : rank impossible\n",
    "autantABGram = {\"AutantAB\": UnionRule(\"Vide\", \"StartAB\"),\n",
    "                    \"StartAB\": UnionRule(\"StartWithA\", \"StartWithB\"),\n",
    "                    \"StartWithA\": ProductRule(\"AtomA\", \"B\", join),\n",
    "                    \"StartWithB\": ProductRule(\"AtomB\", \"A\", join),\n",
    "                    \"A\": UnionRule(\"A2\", \"BDoubleA\"),\n",
    "                    \"A2\": ProductRule(\"AtomA\", \"AutantAB\", join),\n",
    "                    \"B\": UnionRule(\"B2\", \"ADoubleB\"),\n",
    "                    \"B2\": ProductRule(\"AtomB\", \"AutantAB\", join),\n",
    "                    \"BDoubleA\": ProductRule(\"AtomB\", \"DoubleA\", join),\n",
    "                    \"ADoubleB\": ProductRule(\"AtomA\", \"DoubleB\", join),\n",
    "                    \"DoubleA\": ProductRule(\"A\", \"A\", join),\n",
    "                    \"DoubleB\": ProductRule(\"B\", \"B\", join),\n",
    "                    \"Vide\": EpsilonRule(\"\"),\n",
    "                    \"AtomA\": SingletonRule(\"A\"),\n",
    "                    \"AtomB\": SingletonRule(\"B\")}\n",
    "\n",
    "\n",
    "HTML = {\"Page\": ProductRule(\"DOCTYPE\", \"HTML\", join),\n",
    "        \"HTML\": ProductRule(\"O_HTML\", \"CONTEXT\", join),\n",
    "        \"CONTEXT\": ProductRule(\"CORE\", \"C_HTML\", join),\n",
    "\n",
    "        \"CORE\": ProductRule(\"HEAD\", \"BODY\", join),\n",
    "\n",
    "        \"HEAD\": ProductRule(\"O_HEAD\", \"HEAD_CONTEXT\", join),\n",
    "        \"HEAD_CONTEXT\": ProductRule(\"HEAD_TAG\", \"C_HEAD\", join),\n",
    "\n",
    "        \"HEAD_TAG\": ProductRule(\"META_TAG\", \"HEAD_OTHER1\", join),\n",
    "        \"HEAD_OTHER1\": ProductRule(\"TITLE_TAG\", \"HEAD_OTHER2\", join),\n",
    "        \"HEAD_OTHER2\": ProductRule(\"LINK_TAG\", \"HEAD_OTHER3\", join),\n",
    "        \"HEAD_OTHER3\": ProductRule(\"STYLE_TAG\", \"SCRIPT_TAG\", join),\n",
    "\n",
    "        \"META_TAG\": UnionRule(\"Vide\", \"META\"),\n",
    "        \"META\": SingletonRule(\"\\t\\t<meta charset=\\\"utf-8\\\" />\\n\"),\n",
    "\n",
    "        \"TITLE_TAG\": UnionRule(\"Vide\", \"TITLE\"),\n",
    "        \"TITLE\": ProductRule(\"O_TITLE\", \"TITLE_TEXT\", join),\n",
    "        \"TITLE_TEXT\": ProductRule(\"TEXT\", \"C_TITLE\", join),\n",
    "\n",
    "        \"LINK_TAG\": UnionRule(\"Vide\", \"LINK\"),\n",
    "        \"LINK\": SingletonRule(\"\\t\\t<link src=\\\"file.css\\\" />\\n\"),\n",
    "\n",
    "        \"STYLE_TAG\": UnionRule(\"Vide\", \"STYLE\"),\n",
    "        \"STYLE\": ProductRule(\"O_STYLE\", \"STYLE_CODE\", join),\n",
    "        \"STYLE_CODE\": ProductRule(\"CODE\", \"C_STYLE\", join),\n",
    "\n",
    "        \"SCRIPT_TAG\": UnionRule(\"SCRIPT\", \"Vide\"),\n",
    "        \"SCRIPT\": ProductRule(\"O_SCRIPT\", \"SCRIPT_CODE\", join),\n",
    "        \"SCRIPT_CODE\": ProductRule(\"CODE\", \"C_SCRIPT\", join),\n",
    "\n",
    "\n",
    "        \"BODY\": ProductRule(\"O_BODY\", \"BODY_CONTEXT\", join),\n",
    "        \"BODY_CONTEXT\": ProductRule(\"BODY_TAG\", \"C_BODY\", join),\n",
    "\n",
    "        \"BODY_TAG\": ProductRule(\"PARA_TAG\", \"AREF_TAG\", join),\n",
    "        # \"BODY_OTHER1\": UnionRule(\"AREF\", \"BODY_TAG\"),\n",
    "\n",
    "        \"AREF_TAG\": UnionRule(\"Vide\", \"AREF\"),\n",
    "        \"AREF\": ProductRule(\"O_AREF\", \"AREF_TEXT\", join),\n",
    "        \"AREF_TEXT\": ProductRule(\"TEXT\", \"C_AREF\", join),\n",
    "\n",
    "        \"PARA_TAG\": UnionRule(\"Vide\", \"PARA\"),\n",
    "        \"PARA\": ProductRule(\"O_PARA\", \"PARA_CONTEXT\", join),\n",
    "        \"PARA_CONTEXT\": ProductRule(\"PARA_CONTENT\", \"C_PARA\", join),\n",
    "        \"PARA_CONTENT\": UnionRule(\"Vide\", \"PARA_CONTENT2\"),\n",
    "        \"PARA_CONTENT2\": ProductRule(\"PARA_CONTENT3\", \"PARA_CONTENT\", join),\n",
    "        \"PARA_CONTENT3\": UnionRule(\"TEXT_TEXT\", \"AREF\"),\n",
    "\n",
    "        \"TEXT\": UnionRule(\"Vide\", \"TEXT_TEXT\"),\n",
    "        \"TEXT_TEXT\": SingletonRule(\"\\t\\t\\tText\\n\"),\n",
    "        \"CODE\": UnionRule(\"Vide\", \"TEXT_CODE\"),\n",
    "        \"TEXT_CODE\": SingletonRule(\"\\t\\t\\tCode\\n\"),\n",
    "\n",
    "        \"DOCTYPE\": SingletonRule(\"<!DOCTYPE html>\\n\"),\n",
    "        \"O_HTML\": SingletonRule(\"<html>\\n\"),\n",
    "        \"C_HTML\": SingletonRule(\"</html>\\n\"),\n",
    "        \"O_HEAD\": SingletonRule(\"\\t<head>\\n\"),\n",
    "        \"C_HEAD\": SingletonRule(\"\\t</head>\\n\"),\n",
    "        \"O_TITLE\": SingletonRule(\"\\t\\t<title>\\n\"),\n",
    "        \"C_TITLE\": SingletonRule(\"\\t\\t</title>\\n\"),\n",
    "        \"O_STYLE\": SingletonRule(\"\\t\\t<style>\\n\"),\n",
    "        \"C_STYLE\": SingletonRule(\"\\t\\t</style>\\n\"),\n",
    "        \"O_SCRIPT\": SingletonRule(\"\\t\\t<script>\\n\"),\n",
    "        \"C_SCRIPT\": SingletonRule(\"\\t\\t</script>\\n\"),\n",
    "\n",
    "        \"O_BODY\": SingletonRule(\"\\t<body>\\n\"),\n",
    "        \"C_BODY\": SingletonRule(\"\\t</body>\\n\"),\n",
    "        \"O_PARA\": SingletonRule(\"\\t\\t<p>\\n\"),\n",
    "        \"C_PARA\": SingletonRule(\"\\t\\t</p>\\n\"),\n",
    "        \"O_AREF\": SingletonRule(\"\\t\\t<a href=\\\"link\\\">\\n\"),\n",
    "        \"C_AREF\": SingletonRule(\"\\t\\t</a>\\n\"),\n",
    "        \"Vide\": EpsilonRule(\"\")}\n",
    "\n",
    "name = [\"AorBx\", \"Tree\", \"Tree\", \"Fib\", \"ABWord\", \"DyckWord\", \"AB2Max\", \"PalAB\", \"PalABC\", \"AutantAB\", \"Page\"]\n",
    "\n",
    "tGram = [testSequence, treeGram, treeGramCond, fiboGram, abWordGram, dyckGram, ab2MaxGram, palABGram,\n",
    "         palABCGram, autantABGram, HTML]\n",
    "\n",
    "if len(name) != len(tGram):\n",
    "    raise Exception(\"Nombre de grammaires différent du nombre de noms\")\n",
    "\n",
    "for g in tGram:\n",
    "    init_grammar(g)"
   ]
  },
  {
   "cell_type": "code",
   "execution_count": 29,
   "metadata": {},
   "outputs": [
    {
     "name": "stdout",
     "output_type": "stream",
     "text": [
      "0\n",
      "1\n",
      "1\n",
      "2\n",
      "5\n",
      "14\n",
      "42\n",
      "132\n",
      "429\n",
      "1430\n",
      "4862\n"
     ]
    }
   ],
   "source": [
    "for i in range(11):\n",
    "    print(treeGram[\"Tree\"].count(i))"
   ]
  },
  {
   "cell_type": "code",
   "execution_count": 31,
   "metadata": {},
   "outputs": [
    {
     "name": "stdout",
     "output_type": "stream",
     "text": [
      "['']\n",
      "['A', 'B']\n",
      "['AA', 'AB', 'BA']\n",
      "['AAA', 'AAB', 'ABA', 'BAA', 'BAB']\n",
      "['AAAA', 'AAAB', 'AABA', 'ABAA', 'ABAB', 'BAAA', 'BAAB', 'BABA']\n"
     ]
    }
   ],
   "source": [
    "for i in range(5):\n",
    "    print(fiboGram[\"Fib\"].list(i)) "
   ]
  },
  {
   "cell_type": "code",
   "execution_count": 36,
   "metadata": {},
   "outputs": [
    {
     "name": "stdout",
     "output_type": "stream",
     "text": [
      "['']\n",
      "[]\n",
      "['()']\n",
      "[]\n",
      "['()()', '(())']\n",
      "[]\n",
      "['()()()', '()(())', '(())()', '(()())', '((()))']\n",
      "[]\n"
     ]
    }
   ],
   "source": [
    "for i in range(8):\n",
    "    print(dyckGram[\"DyckWord\"].list(i))"
   ]
  },
  {
   "cell_type": "code",
   "execution_count": 39,
   "metadata": {},
   "outputs": [
    {
     "name": "stdout",
     "output_type": "stream",
     "text": [
      "['', '']\n",
      "['a', 'b']\n",
      "['aa', 'bb']\n",
      "['aaa', 'bbb']\n",
      "['aaaa', 'bbbb']\n"
     ]
    }
   ],
   "source": [
    "for i in range(5):\n",
    "    print(testSequence[\"AorBx\"].list(i)) "
   ]
  },
  {
   "cell_type": "code",
   "execution_count": 41,
   "metadata": {},
   "outputs": [
    {
     "data": {
      "text/plain": [
       "Node[Leaf, Node[Node[Node[Leaf, Node[Leaf, Leaf]], Leaf], Leaf]]"
      ]
     },
     "execution_count": 41,
     "metadata": {},
     "output_type": "execute_result"
    }
   ],
   "source": [
    "treeGram[\"Tree\"].unrank(6, 12)"
   ]
  },
  {
   "cell_type": "code",
   "execution_count": 43,
   "metadata": {},
   "outputs": [
    {
     "data": {
      "text/plain": [
       "12"
      ]
     },
     "execution_count": 43,
     "metadata": {},
     "output_type": "execute_result"
    }
   ],
   "source": [
    "treeGram[\"Tree\"].rank(Node(Leaf, Node(Node(Node(Leaf, Node(Leaf, Leaf)), Leaf), Leaf)))"
   ]
  },
  {
   "cell_type": "code",
   "execution_count": 26,
   "metadata": {},
   "outputs": [
    {
     "name": "stdout",
     "output_type": "stream",
     "text": [
      "0\n",
      "0\n",
      "0\n",
      "0\n",
      "0\n",
      "0\n",
      "0\n",
      "1\n",
      "2\n",
      "6\n",
      "15\n",
      "27\n",
      "53\n",
      "95\n",
      "161\n",
      "284\n",
      "499\n",
      "889\n",
      "1614\n",
      "2947\n"
     ]
    }
   ],
   "source": [
    "for n in range(7,13):\n",
    "    print(HTML[\"Page\"].count(n))"
   ]
  },
  {
   "cell_type": "code",
   "execution_count": 56,
   "metadata": {},
   "outputs": [
    {
     "name": "stdout",
     "output_type": "stream",
     "text": [
      "<!DOCTYPE html>\n",
      "<html>\n",
      "\t<head>\n",
      "\t\t<meta charset=\"utf-8\" />\n",
      "\t\t<title>\n",
      "\t\t</title>\n",
      "\t\t<script>\n",
      "\t\t\tCode\n",
      "\t\t</script>\n",
      "\t</head>\n",
      "\t<body>\n",
      "\t\t<p>\n",
      "\t\t\tText\n",
      "\t\t</p>\n",
      "\t</body>\n",
      "</html>\n",
      "\n"
     ]
    }
   ],
   "source": [
    "print(HTML[\"Page\"].list(16)[444])"
   ]
  },
  {
   "cell_type": "code",
   "execution_count": 102,
   "metadata": {},
   "outputs": [
    {
     "name": "stdout",
     "output_type": "stream",
     "text": [
      "Pass : AorBx\n",
      "Pass : Tree\n",
      "Pass : Tree\n",
      "Pass : Fib\n",
      "Pass : ABWord\n",
      "Pass : DyckWord\n",
      "Pass : AB2Max\n",
      "Pass : PalAB\n",
      "Pass : PalABC\n"
     ]
    }
   ],
   "source": [
    "N = 12\n",
    "for k in range(len(tGram)-2):\n",
    "    for n in range(N):\n",
    "        l1 = tGram[k][name[k]].list(n)\n",
    "        l2 = [tGram[k][name[k]].unrank(n, v) for v in range(len(l1))]\n",
    "        l3 = [tGram[k][name[k]].rank(e) for e in l2]\n",
    "        l4 = list(range(len(l1)))\n",
    "        if(name[k] != \"AorBx\" or n != 0): #Cas vide sur union de sequence ambigue\n",
    "            assert(l1 == l2 and l3 == l4)\n",
    "    print(\"Pass : \"+ name[k])"
   ]
  },
  {
   "cell_type": "code",
   "execution_count": 104,
   "metadata": {},
   "outputs": [
    {
     "name": "stdout",
     "output_type": "stream",
     "text": [
      "Pass : AutantAB\n",
      "Pass : Page\n"
     ]
    }
   ],
   "source": [
    "N = 12\n",
    "for k in range(len(tGram)-2,len(tGram)):\n",
    "    for n in range(N):\n",
    "        l1 = tGram[k][name[k]].list(n)\n",
    "        l2 = [tGram[k][name[k]].unrank(n, v) for v in range(len(l1))]\n",
    "        assert(l1 == l2)\n",
    "    print(\"Pass : \"+ name[k])"
   ]
  }
 ],
 "metadata": {
  "kernelspec": {
   "display_name": "Python 3",
   "language": "python",
   "name": "python3"
  },
  "language_info": {
   "codemirror_mode": {
    "name": "ipython",
    "version": 3
   },
   "file_extension": ".py",
   "mimetype": "text/x-python",
   "name": "python",
   "nbconvert_exporter": "python",
   "pygments_lexer": "ipython3",
   "version": "3.6.2"
  }
 },
 "nbformat": 4,
 "nbformat_minor": 2
}
